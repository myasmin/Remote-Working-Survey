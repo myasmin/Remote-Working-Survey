{
 "cells": [
  {
   "cell_type": "code",
   "execution_count": 1,
   "id": "027ee4e5",
   "metadata": {},
   "outputs": [],
   "source": [
    "%reset -f"
   ]
  },
  {
   "cell_type": "markdown",
   "id": "f519a3ca",
   "metadata": {},
   "source": [
    "# Import Libraries"
   ]
  },
  {
   "cell_type": "code",
   "execution_count": 2,
   "id": "a83b09c0",
   "metadata": {},
   "outputs": [],
   "source": [
    "import numpy as np\n",
    "import pandas as pd\n",
    "\n",
    "import plotly.express as px\n",
    "import plotly.graph_objects as go\n",
    "\n",
    "from dash import Dash, dcc, html\n",
    "from dash.dependencies import Input, Output\n",
    "import dash_bootstrap_components as dbc"
   ]
  },
  {
   "cell_type": "markdown",
   "id": "6af5d9ed",
   "metadata": {},
   "source": [
    "## Read the Data:"
   ]
  },
  {
   "cell_type": "code",
   "execution_count": 3,
   "id": "e41a0e53",
   "metadata": {},
   "outputs": [],
   "source": [
    "manager = pd.read_csv('2021_Managers_Survey.csv')\n",
    "employee = pd.read_csv('2021_Employee and Manager Data.csv')"
   ]
  },
  {
   "cell_type": "markdown",
   "id": "27b3e003",
   "metadata": {},
   "source": [
    "# Build the Dashboard"
   ]
  },
  {
   "cell_type": "markdown",
   "id": "7db0bab0",
   "metadata": {},
   "source": [
    "### Initiate the Dashboard:"
   ]
  },
  {
   "cell_type": "code",
   "execution_count": 4,
   "id": "4df50ccd",
   "metadata": {},
   "outputs": [],
   "source": [
    "app = Dash(external_stylesheets=[dbc.themes.COSMO])"
   ]
  },
  {
   "cell_type": "markdown",
   "id": "ffc85a00",
   "metadata": {},
   "source": [
    "### Build Components of the Dashboard:"
   ]
  },
  {
   "cell_type": "markdown",
   "id": "d629bc56",
   "metadata": {},
   "source": [
    "#### Build the Tabs:"
   ]
  },
  {
   "cell_type": "markdown",
   "id": "992437d3",
   "metadata": {},
   "source": [
    "#### Background of the Analysis:"
   ]
  },
  {
   "cell_type": "code",
   "execution_count": 13,
   "id": "400afb57",
   "metadata": {},
   "outputs": [],
   "source": [
    "Background = dbc.Card(\n",
    "    dbc.CardBody(\n",
    "        [\n",
    "            html.P(\"Backgound of the Analysis\", className=\"card-text\"),\n",
    "            html.Hr(),\n",
    "            dcc.Markdown('''\n",
    "**Background:** \n",
    "\n",
    "This is a dashboard project for the [Remote-Working-Survey](https://mavenanalytics.io/data-playground?page=2&pageSize=5 \"Remote-Working-Survey\") by NSW Treasury and published by @MavenAnalytics. \n",
    "\n",
    "In this dataset, 1500 participants were asked about their opinion on Remote Working Environment during the pandemic.This survey has some insightful findings regarding the transition to different working environments- Remote, Onsite and Hybrid.\n",
    "\n",
    "The interesting finding from this analysis is- even though the managers agree that the employees work more in the remote environment, they would prefer to complete onsite or partially onsite environment in Post Covid.\n",
    "\n",
    "The complete analysis can be viewed [here](https://github.com/myasmin/Remote-Working-Survey/blob/05dcdefa2956bcc0940f0da3e55e5770d25c891a/Analysis_on_%22Remote_Working_Survey%22_Data_%20at%20Google_Colab.ipynb \"here\") and my Medium blog post is [here](https://mahmudayasmin.medium.com/what-does-the-managers-think-about-remote-work-96f953f668ff \"here\").\n",
    "\n",
    "\n",
    "                          ''')\n",
    "        ]),\n",
    "    className=\"mt-3\",\n",
    ")"
   ]
  },
  {
   "cell_type": "markdown",
   "id": "25fff963",
   "metadata": {},
   "source": [
    "#### Features of the Participants:"
   ]
  },
  {
   "cell_type": "code",
   "execution_count": 14,
   "id": "45d79e9b",
   "metadata": {},
   "outputs": [],
   "source": [
    "figGender= px.histogram(employee, x= 'Gender', color='Gender').update_xaxes(categoryorder=\"total descending\")                         \n",
    "figAge= px.histogram(employee, x='Age',color='Management role of Participant')\n",
    "figSizeofHousehold= px.histogram(employee, x= 'Size of Household',color='Residency Area').update_xaxes(categoryorder=\"total descending\")\n",
    "fig_Industry = px.histogram(employee, y='Industry',orientation='h').update_yaxes(categoryorder=\"total ascending\")\n",
    "fig_occu_hist = px.histogram(employee, y='Occupation',orientation='h').update_yaxes(categoryorder=\"total ascending\")\n",
    "fig_manage = px.pie(employee,names='Management role of Participant',title='Management role of Participant')\n",
    "fig_duration = px.pie(employee, names='Employment Duration',title='Employment Duration of Participant')\n",
    "                         \n",
    "Features = dbc.Card(\n",
    "    dbc.CardBody([\n",
    "        html.H2(\"Features of Participants \", style={'textAlign': 'center'}),\n",
    "        html.Hr(),\n",
    "            dbc.Row([\n",
    "                html.Div([\n",
    "                html.H5(\"Demographic Features of Participants \", style={'textAlign': 'center'}),\n",
    "                dbc.Col(dcc.Graph(figure=figGender),),\n",
    "                dbc.Col(dcc.Graph(figure=figAge)),\n",
    "                dbc.Col(dcc.Graph(figure=figSizeofHousehold)) \n",
    "                 ])\n",
    "                ]),\n",
    "            dbc.Row([\n",
    "                html.Div([\n",
    "                html.H5(\"Professional Features of Participants \", style={'textAlign': 'center'}),\n",
    "                dbc.Col(dcc.Graph(figure=fig_Industry)),\n",
    "                dbc.Col(dcc.Graph(figure=fig_occu_hist)),\n",
    "                dbc.Col(dcc.Graph(figure=fig_manage)) ,\n",
    "                dbc.Col(dcc.Graph(figure=fig_duration)) \n",
    "                    ])\n",
    "                ])\n",
    "               ])   \n",
    "     )   \n",
    "                \n",
    "     "
   ]
  },
  {
   "cell_type": "markdown",
   "id": "2e6f700c",
   "metadata": {},
   "source": [
    "#### Participant's Response on Remote and Hybrid"
   ]
  },
  {
   "cell_type": "code",
   "execution_count": 15,
   "id": "1b68f873",
   "metadata": {},
   "outputs": [],
   "source": [
    "fig_working_remote= go.Figure()\n",
    "fig_working_remote.add_trace(go.Histogram(name=\"Remote in 2021\",x= employee[\"Time Spent Working Remotely in 2021\"]))\n",
    "fig_working_remote.add_trace(go.Histogram(name=\"Preferred Remote in 2021\",x= employee[\"Preferred Time Spent Working Remotely in 2021\"]))\n",
    "fig_working_remote.add_trace(go.Histogram(name=\"Preferred Remote in Future\",\\\n",
    "                                  x= employee[\"Preferred Time Spent Working Remotely in Future\"]))\n",
    "fig_working_remote.update_layout(barmode='group')\n",
    "fig_working_remote.update_xaxes(categoryorder=\"total descending\")\n",
    "# Reduce opacity to see both histograms\n",
    "fig_working_remote.update_traces(opacity=0.75,showlegend = True)\n",
    "\n",
    "\n",
    "fig_hybrid= go.Figure()\n",
    "fig_hybrid.add_trace(go.Histogram(name=\"Present Duration of Hybrid\",x= employee[\"Duration of Hybrid\"]))\n",
    "fig_hybrid.add_trace(go.Histogram(name=\"Preferences towards Hybrid\",x= employee[\"Preferences towards Hybrid\"]))\n",
    "fig_hybrid.add_trace(go.Histogram(name=\"Employer's Time Preference on Onsite\",\\\n",
    "                                  x= employee[\"Employer's Time Preference on Onsite\"]))\n",
    "fig_hybrid.update_layout(barmode='group')\n",
    "fig_hybrid.update_xaxes(categoryorder=\"total descending\")\n",
    "# Reduce opacity to see both histograms\n",
    "fig_hybrid.update_traces(opacity=0.75,showlegend = True)\n",
    "\n",
    "Response = dbc.Card(\n",
    "    dbc.CardBody([\n",
    "        html.H2(\"Participant's Response on Remote, Onsite and Hybrid \", style={'textAlign': 'center'}),\n",
    "        html.Hr(),\n",
    "            dbc.Row([\n",
    "                html.Div([\n",
    "                html.H5(\"Comparison of Remote Working Environment \", style={'textAlign': 'center'}),\n",
    "                dbc.Col(dcc.Graph(figure=fig_working_remote))\n",
    "                 ])\n",
    "                ]),\n",
    "            dbc.Row([\n",
    "                html.Div([\n",
    "                html.H5(\"Comparison of Hybrid Working Environment \", style={'textAlign': 'center'}),\n",
    "                dbc.Col(dcc.Graph(figure=fig_hybrid)) \n",
    "                    ])\n",
    "                ])\n",
    "               ])   \n",
    "     )   \n",
    "\n"
   ]
  },
  {
   "cell_type": "markdown",
   "id": "da772842",
   "metadata": {},
   "source": [
    "#### Time Management in a day in Remote vs Onsite Scenarios:"
   ]
  },
  {
   "cell_type": "code",
   "execution_count": 16,
   "id": "5200e854",
   "metadata": {},
   "outputs": [],
   "source": [
    "def make_graph_for(a,b):\n",
    "    \n",
    "    '''\n",
    "    \n",
    "    returns a plot in ascending order from the highest frequency as a graphical object.\n",
    "    \n",
    "    input:\n",
    "          any pandas Series, here applied for multiple columns of the dataset.\n",
    "    output:\n",
    "          a plotly barplot containing the percentage distribution of the variable sorted in ascending order\n",
    "    \n",
    "     '''\n",
    "    fig = go.Figure()\n",
    "    fig.add_trace(go.Histogram(name=\"Onsite\", x=a))\n",
    "    fig.add_trace(go.Histogram(name=\"Remote\", x=b))\n",
    "    fig.update_layout(barmode='group')\n",
    "    fig.update_xaxes(categoryorder=\"total descending\")\n",
    "    fig.update_traces(opacity=0.75,showlegend = True)\n",
    "    return(fig)\n",
    "\n",
    "fig_commute = make_graph_for(employee[\"Intended Time to Commute Onsite\"],employee[\"Intended Time to Commute Remote\"])\n",
    "fig_working = make_graph_for(employee[\"Intended Time for Work Onsite\"],employee[\"Intended Time for Work Remote\"])\n",
    "fig_chores = make_graph_for(employee[\"Intended Time for Chores Onsite\"],employee[\"Intended Time for Chores Remote\"])\n",
    "fig_personal = make_graph_for(employee[\"Intended Time for Personal Life Onsite\"],employee[\"Intended Time for Personal Life Remote\"])\n",
    "fig_sleep = make_graph_for(employee[\"Intended Time for Sleep Onsite\"],employee[\"Intended Time for Sleep Remote\"])\n",
    "\n",
    "Time_Management = dbc.Card(\n",
    "    dbc.CardBody([\n",
    "        html.H2(\"Expectations on Time Management in a day in Remote vs Onsite Scenarios\", style={'textAlign': 'center'}),\n",
    "            html.Hr(),\n",
    "            dbc.Row([\n",
    "                html.Div([\n",
    "                html.H5(\"Intended Hours to Spend Preparing for work and commuting:\", style={'textAlign': 'center'}),\n",
    "                dbc.Col(dcc.Graph(figure=fig_commute))\n",
    "                 ])\n",
    "                ]),\n",
    "            dbc.Row([\n",
    "                html.Div([\n",
    "                html.H5(\"Intended Hours to Spend Working:\", style={'textAlign': 'center'}),\n",
    "                dbc.Col(dcc.Graph(figure=fig_working))\n",
    "                 ])\n",
    "                ]),\n",
    "            dbc.Row([\n",
    "                html.Div([\n",
    "                html.H5(\"Intended Hours to Spend For Chores:\", style={'textAlign': 'center'}),\n",
    "                dbc.Col(dcc.Graph(figure=fig_chores))\n",
    "                 ])\n",
    "                ]),\n",
    "            dbc.Row([\n",
    "                html.Div([\n",
    "                html.H5(\"Intended Hours to Spend For Personal Life:\", style={'textAlign': 'center'}),\n",
    "                dbc.Col(dcc.Graph(figure=fig_personal))\n",
    "                 ])\n",
    "                ]),\n",
    "            dbc.Row([\n",
    "                html.Div([\n",
    "                html.H5(\"Intended Hours to Spend to Sleep:\", style={'textAlign': 'center'}),\n",
    "                dbc.Col(dcc.Graph(figure=fig_sleep))\n",
    "                 ])\n",
    "                ]),\n",
    "               ])   \n",
    "     )   \n",
    "\n",
    "\n"
   ]
  },
  {
   "cell_type": "code",
   "execution_count": 17,
   "id": "80325560",
   "metadata": {},
   "outputs": [],
   "source": [
    "tabs = dbc.Tabs(\n",
    "    [\n",
    "        dbc.Tab(Background, label=\"Background\"),\n",
    "        dbc.Tab(Features, label=\"Features\"),\n",
    "        dbc.Tab(Response, label=\"Participant's Response on Remote and Hybrid\"),\n",
    "        dbc.Tab(Time_Management, label=\"Expectations on Time Management in a day\")\n",
    "    ]\n",
    ")\n"
   ]
  },
  {
   "cell_type": "code",
   "execution_count": 18,
   "id": "23214be3",
   "metadata": {},
   "outputs": [],
   "source": [
    "app.layout = html.Div([\n",
    "    html.H1(\"Dashboard for the Remote-Working-Survey\", style={'textAlign': 'center'}),\n",
    "    dcc.Location(id=\"url\"),\n",
    "    tabs\n",
    "    ])"
   ]
  },
  {
   "cell_type": "code",
   "execution_count": 19,
   "id": "e872bbc7",
   "metadata": {},
   "outputs": [
    {
     "name": "stdout",
     "output_type": "stream",
     "text": [
      "Dash is running on http://127.0.0.1:8050/\n",
      "\n",
      " * Serving Flask app \"__main__\" (lazy loading)\n",
      " * Environment: production\n",
      "\u001b[31m   WARNING: This is a development server. Do not use it in a production deployment.\u001b[0m\n",
      "\u001b[2m   Use a production WSGI server instead.\u001b[0m\n",
      " * Debug mode: off\n"
     ]
    },
    {
     "name": "stderr",
     "output_type": "stream",
     "text": [
      " * Running on http://127.0.0.1:8050/ (Press CTRL+C to quit)\n",
      "127.0.0.1 - - [28/Oct/2022 11:00:52] \"GET / HTTP/1.1\" 200 -\n",
      "127.0.0.1 - - [28/Oct/2022 11:00:52] \"GET /_dash-dependencies HTTP/1.1\" 200 -\n",
      "127.0.0.1 - - [28/Oct/2022 11:00:52] \"GET /_dash-layout HTTP/1.1\" 200 -\n",
      "127.0.0.1 - - [28/Oct/2022 11:00:52] \"GET /_favicon.ico?v=2.0.0 HTTP/1.1\" 200 -\n",
      "127.0.0.1 - - [28/Oct/2022 11:00:52] \"GET /_dash-component-suites/dash/dcc/async-markdown.js HTTP/1.1\" 200 -\n",
      "127.0.0.1 - - [28/Oct/2022 11:00:52] \"GET /_dash-component-suites/dash/dcc/async-plotlyjs.js HTTP/1.1\" 200 -\n",
      "127.0.0.1 - - [28/Oct/2022 11:00:52] \"GET /_dash-component-suites/dash/dcc/async-graph.js HTTP/1.1\" 200 -\n",
      "127.0.0.1 - - [28/Oct/2022 11:00:52] \"GET /_dash-component-suites/dash/dcc/async-highlight.js HTTP/1.1\" 200 -\n"
     ]
    }
   ],
   "source": [
    "if __name__=='__main__':\n",
    "    app.run_server()"
   ]
  }
 ],
 "metadata": {
  "kernelspec": {
   "display_name": "Python 3 (ipykernel)",
   "language": "python",
   "name": "python3"
  },
  "language_info": {
   "codemirror_mode": {
    "name": "ipython",
    "version": 3
   },
   "file_extension": ".py",
   "mimetype": "text/x-python",
   "name": "python",
   "nbconvert_exporter": "python",
   "pygments_lexer": "ipython3",
   "version": "3.9.13"
  }
 },
 "nbformat": 4,
 "nbformat_minor": 5
}
